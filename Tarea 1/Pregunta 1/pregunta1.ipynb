{
 "cells": [
  {
   "cell_type": "code",
   "execution_count": 1,
   "metadata": {},
   "outputs": [],
   "source": [
    "englishLetterFreq = {'E': 12.02, 'T': 9.1, 'A': 8.12, 'O': 7.68, 'I': 7.31, 'N': 6.95, 'S': 6.28, 'H': 5.92, 'R': 6.02, 'D': 4.32, 'L': 3.98, 'C': 2.71, 'U': 2.88, 'M': 2.61, 'W': 2.09, 'F': 2.30, 'G': 2.03, 'Y': 2.11, 'P': 1.82, 'B': 1.49, 'V': 1.11, 'K': 0.69, 'J': 0.10, 'X': 0.17, 'Q': 0.11, 'Z': 0.07}"
   ]
  },
  {
   "cell_type": "code",
   "execution_count": 2,
   "metadata": {},
   "outputs": [],
   "source": [
    "caracteres = 'ABCDEFGHIJKLMNOPQRSTUVWXYZ'\n",
    "transformador_a_numero = {c: caracteres.index(c) for c in caracteres}\n",
    "transformador_a_letra = {caracteres.index(c):c for c in caracteres}"
   ]
  },
  {
   "cell_type": "code",
   "execution_count": 35,
   "metadata": {},
   "outputs": [],
   "source": [
    "from collections import Counter\n",
    "\n",
    "def most_likely_len(cypher):\n",
    "  best = 1000000000000000000000000000000000000000000000000000000000000000000000000\n",
    "  best_key = 0\n",
    "  sorted_freq = sorted(englishLetterFreq.values(), reverse=True)\n",
    "  for KEY_LEN in range(1, len(cypher)//50):\n",
    "    sum = 0\n",
    "    for pos in range(KEY_LEN):\n",
    "      to_decypher = [cypher[x * KEY_LEN + pos] for x in range(len(cypher) // KEY_LEN)]\n",
    "      count = Counter(to_decypher)\n",
    "      sorted_count = sorted(count.values(), reverse=True)\n",
    "      for i in range(len(sorted_freq)):\n",
    "        if i < len(sorted_count):\n",
    "          sum += abs((sorted_freq[i] - sorted_count[i]/(len(cypher) // KEY_LEN)))\n",
    "        else:\n",
    "          sum += sorted_freq[i]\n",
    "    sum /= KEY_LEN\n",
    "    if sum < best:\n",
    "      best_key = KEY_LEN\n",
    "      best = sum\n",
    "  return best_key"
   ]
  },
  {
   "cell_type": "code",
   "execution_count": 40,
   "metadata": {},
   "outputs": [],
   "source": [
    "def most_likely_key_length(ciphertext,\n",
    "    frequencies,\n",
    "    distance):\n",
    "    max_length = len(ciphertext)//50\n",
    "    real_key_length = 1\n",
    "    \n",
    "    alphabet = sorted(frequencies.keys())\n",
    "    freq_sort = sorted(frequencies.values())\n",
    "    max_diff = 10000000000000000000000000000000000000000000000000000000000000000000000000\n",
    "    \n",
    "    for length in range(1,max_length+1):\n",
    "        compare_array = []\n",
    "        sum = 0\n",
    "        for pos in range(length):\n",
    "            compare_dict = {k:0 for k in frequencies.keys()}\n",
    "            pos_len = len(ciphertext)//length\n",
    "            to_decrypt = [ciphertext[i*length + pos] for i in range(pos_len)]\n",
    "\n",
    "            for letter in to_decrypt:\n",
    "                compare_dict[letter] += 1\n",
    "\n",
    "            sorted_count = sorted(compare_dict.values())\n",
    "            for i in range(len(sorted_count)):\n",
    "                if i < len(sorted_count):\n",
    "                    sum += abs((freq_sort[i] - sorted_count[i]/pos_len))\n",
    "                else:\n",
    "                    sum += freq_sort[i]\n",
    "        sum /= length\n",
    "        if sum < max_diff:\n",
    "            real_key_length = length\n",
    "            max_diff = sum\n",
    "    return real_key_length"
   ]
  },
  {
   "cell_type": "code",
   "execution_count": 3,
   "metadata": {},
   "outputs": [],
   "source": [
    "def encrypt_otp(texto,key):\n",
    "    cypher_text = \"\"\n",
    "    cypher_number = []\n",
    "    new_key = \"\"\n",
    "    while len(new_key) < len(texto):\n",
    "        new_key += key\n",
    "    \n",
    "    key = new_key[0:len(texto)]\n",
    "\n",
    "\n",
    "\n",
    "    for t,k in zip(texto,key):\n",
    "        cypher_number.append((transformador_a_numero[t] + transformador_a_numero[k])%len(englishLetterFreq))\n",
    "        cypher_text += transformador_a_letra[cypher_number[-1]]\n",
    "\n",
    "    print(cypher_text)"
   ]
  },
  {
   "cell_type": "code",
   "execution_count": 4,
   "metadata": {},
   "outputs": [],
   "source": [
    "def decrypt_otp(cipher,key):\n",
    "    key = \"\".join(key)\n",
    "    text = \"\"\n",
    "    number = []\n",
    "    new_key = \"\"\n",
    "    while len(new_key) < len(cipher):\n",
    "        new_key += key\n",
    "    \n",
    "    key = new_key[0:len(cipher)]\n",
    "    \n",
    "    for t,k in zip(cipher,key):\n",
    "        number.append((transformador_a_numero[t] - transformador_a_numero[k])%len(englishLetterFreq))\n",
    "        text += transformador_a_letra[number[-1]]\n",
    "\n",
    "    return text\n"
   ]
  },
  {
   "cell_type": "code",
   "execution_count": 5,
   "metadata": {},
   "outputs": [],
   "source": [
    "import itertools\n",
    "import math\n"
   ]
  },
  {
   "cell_type": "code",
   "execution_count": 6,
   "metadata": {},
   "outputs": [],
   "source": [
    "def most_likely_char(pos, ciphertext,key_len,frequencies,distance):\n",
    "    to_decrypt = [ciphertext[i*key_len + pos] for i in range(len(ciphertext)//key_len)]\n",
    "    alphabet = sorted(frequencies.keys())\n",
    "    best_char = alphabet[0]\n",
    "    best_distance = len(alphabet)\n",
    "\n",
    "    for candidate in alphabet:\n",
    "        string = ''\n",
    "        for c in to_decrypt:\n",
    "            n_c = alphabet.index(c)\n",
    "            n_candidate = alphabet.index(candidate)\n",
    "            n = (n_c - n_candidate) % len(alphabet)\n",
    "            string += alphabet[n]\n",
    "        dif = distance(string,frequencies)\n",
    "        if best_distance > dif:\n",
    "            best_char = candidate\n",
    "            best_distance = dif\n",
    "    return best_char\n",
    "            \n",
    "            \n",
    "    "
   ]
  },
  {
   "cell_type": "code",
   "execution_count": 33,
   "metadata": {},
   "outputs": [],
   "source": [
    "\n",
    "        \n",
    "\n",
    "            \n",
    "        \n",
    "        "
   ]
  },
  {
   "cell_type": "code",
   "execution_count": 41,
   "metadata": {},
   "outputs": [],
   "source": [
    "def break_rp(\n",
    "    ciphertext,\n",
    "    frequencies,\n",
    "    distance,\n",
    ") -> str:\n",
    "\n",
    "    key_len = most_likely_key_length(\n",
    "        ciphertext,\n",
    "        frequencies,\n",
    "        distance,\n",
    "    )\n",
    "    key = ''\n",
    "    print(key_len)\n",
    "    for i in range(key_len):\n",
    "        key += most_likely_char(i, ciphertext, key_len, frequencies, distance)\n",
    "\n",
    "    return decrypt_otp(ciphertext, key)\n"
   ]
  },
  {
   "cell_type": "code",
   "execution_count": 9,
   "metadata": {},
   "outputs": [],
   "source": [
    "def abs_distance( string , frequencies) -> float :\n",
    "    return sum([\n",
    "    abs((frequencies[c]/100) - (string.count(c) / len(string)) )\n",
    "    for c in frequencies\n",
    "    ])\n"
   ]
  },
  {
   "cell_type": "code",
   "execution_count": 38,
   "metadata": {},
   "outputs": [],
   "source": [
    "cipher = \"TIEFNJTPDLIYGEOXOGGCEBTMRJTLIOAYDOOCTIECNJRPLBNOOSUVITIYWFSEESNPUSOAEJTNONPCITEDTIETSMAYDPFRRFAEBSIEAJNPNHLLNESNOULLNEAYDXAWETAYDUHPNPREHFRYOOEDIYTSOGTSEJSWAODZFJRPLBNONPREHFRYISEWAODEOHEEHFRHIUHXAOYDMBLWESIDLBNOSUHPMBIYLBNOASELSMIPBFTHEFNWAUIEUEEDNBNONUHPSIEELBNOITLLNESCEBCSTPNPASLJNBNOLPNRIUUOETWEOFTSESOJAMGCEFNHIDHZBTECVBTZRZNPASLZNEOYITTSEEEQIOIYGQOTNUOQTIEARJMPMFRTDJAYTIEFNJTPDLIYGEOXHBSLTPTLLBRPAPFLPQRZXJMLTFLJKNTSEVKWIFSMEUWPEOTSEOOCTIAELBNEIDAYDUHPNPREHTELAODNONEDWJTSIOKXMJOQTIEYOSTSWFSECPADTPFQRBNNEGRZMXHTCIIEITSPPBRLTFDMYUHPEOGWITHNHBNYEMIESIACETAVMJNEESNLTJOYAMLLNEBZUODLRZWTTITSESEAUCLTCPFTRFLLNETSEDHLNOEWTVNYEMBZRFDMEOELTITSEFNRLJSSCIAYNFLYOXLTNLSEHFUVWJTSFSAYCFTSEQHJSJCLLHEZGSAAHZOQTIEFKWACIFSRRFAELZEYGMAYDDOYSJSESPFXOTTWYMOHLBNOTFRCAJNHIUHFPMAYDPRXOVNEAJNZUTTPRSATNPNWYGOFNENZRUHHETTZFUHPTFEDEYEWIOEEHFUALBNOASELSJNNLVDPTIEWALEOITTCIDTEHFPPNOIYETNZRUHJOSKXOPRDEYMZOSAYDEACTNOZRUHPLPWWAODLRFADASEEYQINAMLJTSAGESSPDCYCAOGPSPFWOXHTLMSQRFQFEOTWYDOXPPSPDPFNHBLVAODQLBTALBIYSTCZTMAYDJSEHFMZSUMZUOTLIOOFSDOFNURJIOTSEVKLNEIESQHJSJCLLHEZGSAAHZIDDJSEIOGFITHPDCYEHFHTGILLNEBZUODLRZFLUMTHHJCSTSAGESSPSUHPSDOETJSSMBIYLBNOFSOXHFLPNTBFRHHEOTTZNFHLVFNEHFFLUMTWIOEDEQACAUEDTIEEWPDTSUIYCUIGEMYOIGFPRFNERFGTOOSZFUHPHJGSLBNOSUOEHFNZRUHLNEWPSUAYDUHPLPWWAODDTPTSETOFTIAYDFADTUHPHJGSLBNOSBRPPSEOONIYAOTWYNOFNUATNPUDCPNEAJNTNHTSENAUOSIEYPFDCPTWAODDMPUYTBIYOVSWAODDCBPPWIIWEUHPLPWWAODDCPNEAJNQLBTEESLLNEEDPFCTAMLJADRZSTTSEDEYTSAWLPWWAODDWJTSUQLLNEAYDNOFNUATNPUDTFRCAJNWODAEEEAETIEDOVTSESNFPMAYDTWLLFSTSNODTMYXOVNEAJNZUTTSOVGSSPUEHXAWETIDLFSDMPUYTBIYOVSEHBNYOSTSAODXIEWLLFSYOSTSESNTRFLLNECZNTIDTTOQMPSELZHTLMYWAODDCBPPAODTTTGPOHRLPIYTNDLFDFSEHFMZUSNPMPUYTBIYSBSHEMLLSMOFGINPAHHLTTQFASEVIMOXEURPSTQXIUHPLBRRETTMOEYZFXAEESIYTIEFKUHPOWECAMLREPMZRQHZLPGJOGTSEVKHATSSAQEOBZANONBTNBTTOOOQFPRNETIYCMUOIOGEEDTZNJCDAODNLJMLTFCSAOGPIOPLRUINUMACGMANIBTTOOIYNPREHFRYAODHETTPROACEBSEHFTLLMEDTNOFNUATNJNEHFUVAODMRJTTSIIDLFSTSCEYNFVTSJNEHFGCANPTAOMZUOTLIOSDCPTWAODEHFLZNHEDTSIGESIDTIECIWECSFVPROWSIDHQLPWDFSOXWBLPSJNEOFNRLBNOTIEWASGPSULLKFBJSVRQADELRFATSMOFGINPAHHTNOOCTIECNJRPLBNOTIOFGISNOULLNESWODHYETSSATTSEMACGFSEVPLFMF\""
   ]
  },
  {
   "cell_type": "code",
   "execution_count": 42,
   "metadata": {},
   "outputs": [
    {
     "name": "stdout",
     "output_type": "stream",
     "text": [
      "36\n",
      "THEUNITEDKINGDOMOFGREATBRITAINANDNORTHERNIRELANDORUKISINWESTERNEUROPEITCOMPRISESTHEISLANDOFGREATBRITAINENGLANDSCOTLANDANDWALESANDTHENORTHERNONESIXTHOFTHEISLANDOFIRELANDNORTHERNIRELANDTOGETHERWITHMANYSMALLERISLANDSTHEMAINLANDAREASLIEBETWEENLATITUDESNANDNTHESHETLANDISLANDSREACHTONEARLYNANDLONGITUDESWTOETHEROYALGREENWICHOBSERVATORYNEARLONDONISTHEDEFININGPOINTOFTHEPRIMEMERIDIANTHEUNITEDKINGDOMHASATOTALAREAOFAPPROXIMATELYKMTHEUKLIESBETWEENTHENORTHATLANTICANDTHENORTHSEAANDCOMESWITHINKMMIOFTHENORTHWESTCOASTOFFRANCEFROMWHICHITISSEPARATEDBYTHEENGLISHCHANNELITSHARESAKMINTERNATIONALLANDBOUNDARYWITHTHEREPUBLICOFIRELANDTHECHANNELTUNNELBOREDBENEATHTHEENGLISHCHANNELNOWLINKSTHEUKWITHFRANCETHEPHYSICALGEOGRAPHYOFTHEUKVARIESGREATLYENGLANDCONSISTSOFMOSTLYLOWLANDTERRAINWITHUPLANDORMOUNTAINOUSTERRAINONLYFOUNDNORTHWESTOFTHETEESEXELINETHEUPLANDAREASINCLUDETHELAKEDISTRICTTHEPENNINESNORTHYORKMOORSEXMOORANDDARTMOORTHELOWLANDAREASARETYPICALLYTRAVERSEDBYRANGESOFLOWHILLSFREQUENTLYCOMPOSEDOFCHALKANDFLATPLAINSSCOTLANDISTHEMOSTMOUNTAINOUSCOUNTRYINTHEUKANDITSPHYSICALGEOGRAPHYISDISTINGUISHEDBYTHEHIGHLANDBOUNDARYFAULTWHICHTRAVERSESTHESCOTTISHMAINLANDFROMHELENSBURGHTOSTONEHAVENTHEFAULTLINESEPARATESTHETWODISTINCTIVELYDIFFERENTREGIONSOFTHEHIGHLANDSTOTHENORTHANDWESTANDTHELOWLANDSTOTHESOUTHANDEASTTHEHIGHLANDSAREPREDOMINANTLYMOUNTAINOUSCONTAININGTHEMAJORITYOFSCOTLANDSMOUNTAINOUSLANDSCAPEWHILETHELOWLANDSCONTAINFLATTERLANDESPECIALLYACROSSTHECENTRALLOWLANDSWITHUPLANDANDMOUNTAINOUSTERRAINLOCATEDATTHESOUTHERNUPLANDSWALESISMOSTLYMOUNTAINOUSTHOUGHSOUTHWALESISLESSMOUNTAINOUSTHANNORTHANDMIDWALESNORTHERNIRELANDCONSISTSOFMOSTLYHILLYLANDSCAPEANDITSGEOGRAPHYINCLUDESTHEMOURNEMOUNTAINSASWELLASLOUGHNEAGHATSQUAREKILOMETRESSQMITHELARGESTBODYOFWATERINTHEUKTHEOVERALLGEOMORPHOLOGYOFTHEUKWASSHAPEDBYACOMBINATIONOFFORCESINCLUDINGTECTONICSANDCLIMATECHANGEINPARTICULARGLACIATIONINNORTHERNANDWESTERNAREASTHETALLESTMOUNTAININTHEUKANDBRITISHISLESISBENNEVISINTHEGRAMPIANMOUNTAINSSCOTLANDTHELONGESTRIVERISTHERIVERSEVERNWHICHFLOWSFROMWALESINTOENGLANDTHELARGESTLAKEBYSURFACEAREAISLOUGHNEAGHINNORTHERNIRELANDTHOUGHSCOTLANDSLOCHNESSHASTHELARGESTVOLUME\n"
     ]
    }
   ],
   "source": [
    "print(break_rp (\n",
    "    cipher,\n",
    "    englishLetterFreq,\n",
    "    abs_distance,\n",
    "))"
   ]
  },
  {
   "cell_type": "code",
   "execution_count": 11,
   "metadata": {},
   "outputs": [
    {
     "ename": "NameError",
     "evalue": "name 'new_s' is not defined",
     "output_type": "error",
     "traceback": [
      "\u001b[0;31m---------------------------------------------------------------------------\u001b[0m",
      "\u001b[0;31mNameError\u001b[0m                                 Traceback (most recent call last)",
      "\u001b[1;32m/home/brocoleta/tarea1-cripto/Tarea 1/Pregunta 1/pregunta1.ipynb Cell 11'\u001b[0m in \u001b[0;36m<cell line: 1>\u001b[0;34m()\u001b[0m\n\u001b[0;32m----> <a href='vscode-notebook-cell://wsl%2Bubuntu/home/brocoleta/tarea1-cripto/Tarea%201/Pregunta%201/pregunta1.ipynb#ch0000010vscode-remote?line=0'>1</a>\u001b[0m \u001b[39mprint\u001b[39m(abs_distance(new_s,englishLetterFreq))\n",
      "\u001b[0;31mNameError\u001b[0m: name 'new_s' is not defined"
     ]
    }
   ],
   "source": [
    "print(abs_distance(new_s,englishLetterFreq))"
   ]
  }
 ],
 "metadata": {
  "interpreter": {
   "hash": "916dbcbb3f70747c44a77c7bcd40155683ae19c65e1c03b4aa3499c5328201f1"
  },
  "kernelspec": {
   "display_name": "Python 3.8.10 64-bit",
   "language": "python",
   "name": "python3"
  },
  "language_info": {
   "codemirror_mode": {
    "name": "ipython",
    "version": 3
   },
   "file_extension": ".py",
   "mimetype": "text/x-python",
   "name": "python",
   "nbconvert_exporter": "python",
   "pygments_lexer": "ipython3",
   "version": "3.9.0"
  },
  "orig_nbformat": 4
 },
 "nbformat": 4,
 "nbformat_minor": 2
}
