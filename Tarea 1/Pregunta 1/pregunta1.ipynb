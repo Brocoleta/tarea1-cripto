{
 "cells": [
  {
   "cell_type": "code",
   "execution_count": 11,
   "metadata": {},
   "outputs": [],
   "source": [
    "englishLetterFreq = {'E': .1202, 'T': .091, 'A': .0812, 'O': .0768, 'I': .0731, 'N': .0695, 'S': .0628, 'H': .0592, 'R': .0602, 'D': .0432, 'L': .0398, 'C': .0271, 'U': .0288, 'M': .0261, 'W': .0209, 'F': .0230, 'G': .0203, 'Y': .0211, 'P': .0182, 'B': .0149, 'V': .0111, 'K': .0069, 'J': .0010, 'X': .0017, 'Q': .0011, 'Z': .0007}"
   ]
  },
  {
   "cell_type": "code",
   "execution_count": 12,
   "metadata": {},
   "outputs": [],
   "source": [
    "caracteres = 'ABCDEFGHIJKLMNOPQRSTUVWXYZ'\n",
    "transformador_a_numero = {c: caracteres.index(c) for c in caracteres}\n",
    "transformador_a_letra = {caracteres.index(c):c for c in caracteres}"
   ]
  },
  {
   "cell_type": "markdown",
   "metadata": {},
   "source": [
    "## Funcion para encontrar el largo de la llave"
   ]
  },
  {
   "cell_type": "markdown",
   "metadata": {},
   "source": [
    "Esta funcion lo que hace es ir comparando las distribuciones de cada largo de llave para que se asemejen a las frecuencias entregadas, no es necesario decriptar con cada llave, sino que solamente ir contando cada letra encriptada, esto es debido a que OTP es 1-1, por lo que la frecuencia se deberia mantener similar (la distribucion en si, sin contar que letra corresponde a que frequencia).\n",
    "\n",
    "El razonamiento es el siguiente: para cada largo contamos sus frecuencias, una vez que ya la tenemos la ordenamos de mayor a menor, al igual que la frecuencia entregada. Una vez las dos frecuencias ordenadas, las comparamos y el largo que tenga la menor diferencia, es el largo de la llave."
   ]
  },
  {
   "cell_type": "code",
   "execution_count": 13,
   "metadata": {},
   "outputs": [],
   "source": [
    "def most_likely_key_length(ciphertext,\n",
    "    frequencies,\n",
    "    distance):\n",
    "    max_length = len(ciphertext)//50\n",
    "    real_key_length = 1\n",
    "    \n",
    "    alphabet = sorted(frequencies.keys())\n",
    "    freq_sort = sorted(frequencies.values())\n",
    "\n",
    "    # ordenamos las frecuencia por su valor\n",
    "    max_diff = 10000000000000000000000000000000000000000000000000000000000000000000000000\n",
    "    \n",
    "    # iteramos sobre todos los largos de llaves posibles\n",
    "    for length in range(1,max_length+1):\n",
    "        suma = 0\n",
    "        # iteramos sobre el largo de la llave\n",
    "        for pos in range(length):\n",
    "            compare_dict = {k:0 for k in frequencies.keys()}\n",
    "            pos_len = len(ciphertext)//length\n",
    "\n",
    "            # separamos el ciphertext por las letras que corresponden a esa parte de la llave\n",
    "            to_decrypt = [ciphertext[i*length + pos] for i in range(pos_len)]           \n",
    "\n",
    "            for letter in to_decrypt:\n",
    "                compare_dict[letter] += 1\n",
    "                # sumamos las frecuencias de cada letra\n",
    "\n",
    "            sorted_count = sorted(compare_dict.values())\n",
    "            # ordenamos la frecuencia obtenida por sus valores (no por las letras) al igual que como ordenamos antes\n",
    "            # la frecuencia de input\n",
    "            for i in range(len(sorted_count)):\n",
    "                # para cada valor sumamos la diferencia promediada segun el largo de las ocurrencias de esa parte de la llave\n",
    "                if i < len(sorted_count):\n",
    "                    suma += abs((freq_sort[i] - sorted_count[i]/pos_len))\n",
    "                else:\n",
    "                    suma += freq_sort[i]\n",
    "        # promediamos por el largo de la llave\n",
    "        suma /= length\n",
    "        if suma < max_diff:\n",
    "            real_key_length = length\n",
    "            max_diff = suma\n",
    "    return real_key_length"
   ]
  },
  {
   "cell_type": "markdown",
   "metadata": {},
   "source": [
    "## Encrypt y Decrypt OTP"
   ]
  },
  {
   "cell_type": "markdown",
   "metadata": {},
   "source": [
    "Estas funciones las cree para probar el codigo, las hice con la materia de clases"
   ]
  },
  {
   "cell_type": "code",
   "execution_count": 14,
   "metadata": {},
   "outputs": [],
   "source": [
    "def encrypt_otp(texto,key):\n",
    "    cypher_text = \"\"\n",
    "    cypher_number = []\n",
    "    new_key = \"\"\n",
    "    while len(new_key) < len(texto):\n",
    "        new_key += key\n",
    "    \n",
    "    key = new_key[0:len(texto)]\n",
    "\n",
    "\n",
    "\n",
    "    for t,k in zip(texto,key):\n",
    "        cypher_number.append((transformador_a_numero[t] + transformador_a_numero[k])%len(englishLetterFreq))\n",
    "        cypher_text += transformador_a_letra[cypher_number[-1]]\n",
    "\n",
    "    print(cypher_text)"
   ]
  },
  {
   "cell_type": "code",
   "execution_count": 15,
   "metadata": {},
   "outputs": [],
   "source": [
    "def decrypt_otp(cipher,key):\n",
    "    key = \"\".join(key)\n",
    "    text = \"\"\n",
    "    number = []\n",
    "    new_key = \"\"\n",
    "    while len(new_key) < len(cipher):\n",
    "        new_key += key\n",
    "    \n",
    "    key = new_key[0:len(cipher)]\n",
    "    \n",
    "    for t,k in zip(cipher,key):\n",
    "        number.append((transformador_a_numero[t] - transformador_a_numero[k])%len(englishLetterFreq))\n",
    "        text += transformador_a_letra[number[-1]]\n",
    "\n",
    "    return text\n"
   ]
  },
  {
   "cell_type": "markdown",
   "metadata": {},
   "source": [
    "## Funcion para sacar el caracter mas probable"
   ]
  },
  {
   "cell_type": "markdown",
   "metadata": {},
   "source": [
    "Para esta funcion me inspire en la funcion creada en clases para decriptar otp con un largo en especifico, lo que hace es que para cada letra del alphabeto decripta una parte del texto cifrado, y va probando cual tiene la mejor frecuencia"
   ]
  },
  {
   "cell_type": "code",
   "execution_count": 16,
   "metadata": {},
   "outputs": [],
   "source": [
    "def most_likely_char(pos, ciphertext,key_len,frequencies,distance):\n",
    "    to_decrypt = [ciphertext[i*key_len + pos] for i in range(len(ciphertext)//key_len)]\n",
    "    # separamos el ciphertext por las letras que corresponden a esa parte de la llave\n",
    "    alphabet = sorted(frequencies.keys())\n",
    "    best_char = alphabet[0]\n",
    "    best_distance = len(alphabet)\n",
    "\n",
    "    # iteramos por cada letra del alfabeto\n",
    "    for candidate in alphabet:\n",
    "        string = ''\n",
    "        # iteramos por cada letra que corresponden a esa parte de la llave\n",
    "        for c in to_decrypt:\n",
    "            n_c = alphabet.index(c)\n",
    "            n_candidate = alphabet.index(candidate)\n",
    "            n = (n_c - n_candidate) % len(alphabet)\n",
    "            # la decriptamos y añadimos al string de resultado\n",
    "            string += alphabet[n]\n",
    "        # comparamos la diferencia\n",
    "        dif = distance(string,frequencies)\n",
    "        if best_distance > dif:\n",
    "            best_char = candidate\n",
    "            best_distance = dif\n",
    "    return best_char\n",
    "            \n",
    "            \n",
    "    "
   ]
  },
  {
   "cell_type": "code",
   "execution_count": 17,
   "metadata": {},
   "outputs": [],
   "source": [
    "def abs_distance ( string : str , frequencies) -> float :\n",
    "    return sum([\n",
    "    abs ( frequencies [c] - string . count ( c ) / len ( string ) )\n",
    "    for c in frequencies\n",
    "    ])\n"
   ]
  },
  {
   "cell_type": "markdown",
   "metadata": {},
   "source": [
    "## BREAK OTP"
   ]
  },
  {
   "cell_type": "markdown",
   "metadata": {},
   "source": [
    "Esta es la funcion a correr, lo primero que hace es sacar el largo de la llave con la funcion descrita mas arriba, una vez que lo tiene saca la llave con la funcion vista en clases"
   ]
  },
  {
   "cell_type": "code",
   "execution_count": 18,
   "metadata": {},
   "outputs": [],
   "source": [
    "def break_rp(\n",
    "    ciphertext,\n",
    "    frequencies,\n",
    "    distance,\n",
    ") -> str:\n",
    "    # sacamos el largo de la llave\n",
    "    key_len = most_likely_key_length(\n",
    "        ciphertext,\n",
    "        frequencies,\n",
    "        distance,\n",
    "    )\n",
    "    key = ''\n",
    "    # sacamos la llave\n",
    "    for i in range(key_len):\n",
    "        key += most_likely_char(i, ciphertext, key_len, frequencies, distance)\n",
    "    return key\n"
   ]
  },
  {
   "cell_type": "code",
   "execution_count": 19,
   "metadata": {},
   "outputs": [],
   "source": [
    "cipher = \"TIEFNJTPDLIYGEOXOGGCEBTMRJTLIOAYDOOCTIECNJRPLBNOOSUVITIYWFSEESNPUSOAEJTNONPCITEDTIETSMAYDPFRRFAEBSIEAJNPNHLLNESNOULLNEAYDXAWETAYDUHPNPREHFRYOOEDIYTSOGTSEJSWAODZFJRPLBNONPREHFRYISEWAODEOHEEHFRHIUHXAOYDMBLWESIDLBNOSUHPMBIYLBNOASELSMIPBFTHEFNWAUIEUEEDNBNONUHPSIEELBNOITLLNESCEBCSTPNPASLJNBNOLPNRIUUOETWEOFTSESOJAMGCEFNHIDHZBTECVBTZRZNPASLZNEOYITTSEEEQIOIYGQOTNUOQTIEARJMPMFRTDJAYTIEFNJTPDLIYGEOXHBSLTPTLLBRPAPFLPQRZXJMLTFLJKNTSEVKWIFSMEUWPEOTSEOOCTIAELBNEIDAYDUHPNPREHTELAODNONEDWJTSIOKXMJOQTIEYOSTSWFSECPADTPFQRBNNEGRZMXHTCIIEITSPPBRLTFDMYUHPEOGWITHNHBNYEMIESIACETAVMJNEESNLTJOYAMLLNEBZUODLRZWTTITSESEAUCLTCPFTRFLLNETSEDHLNOEWTVNYEMBZRFDMEOELTITSEFNRLJSSCIAYNFLYOXLTNLSEHFUVWJTSFSAYCFTSEQHJSJCLLHEZGSAAHZOQTIEFKWACIFSRRFAELZEYGMAYDDOYSJSESPFXOTTWYMOHLBNOTFRCAJNHIUHFPMAYDPRXOVNEAJNZUTTPRSATNPNWYGOFNENZRUHHETTZFUHPTFEDEYEWIOEEHFUALBNOASELSJNNLVDPTIEWALEOITTCIDTEHFPPNOIYETNZRUHJOSKXOPRDEYMZOSAYDEACTNOZRUHPLPWWAODLRFADASEEYQINAMLJTSAGESSPDCYCAOGPSPFWOXHTLMSQRFQFEOTWYDOXPPSPDPFNHBLVAODQLBTALBIYSTCZTMAYDJSEHFMZSUMZUOTLIOOFSDOFNURJIOTSEVKLNEIESQHJSJCLLHEZGSAAHZIDDJSEIOGFITHPDCYEHFHTGILLNEBZUODLRZFLUMTHHJCSTSAGESSPSUHPSDOETJSSMBIYLBNOFSOXHFLPNTBFRHHEOTTZNFHLVFNEHFFLUMTWIOEDEQACAUEDTIEEWPDTSUIYCUIGEMYOIGFPRFNERFGTOOSZFUHPHJGSLBNOSUOEHFNZRUHLNEWPSUAYDUHPLPWWAODDTPTSETOFTIAYDFADTUHPHJGSLBNOSBRPPSEOONIYAOTWYNOFNUATNPUDCPNEAJNTNHTSENAUOSIEYPFDCPTWAODDMPUYTBIYOVSWAODDCBPPWIIWEUHPLPWWAODDCPNEAJNQLBTEESLLNEEDPFCTAMLJADRZSTTSEDEYTSAWLPWWAODDWJTSUQLLNEAYDNOFNUATNPUDTFRCAJNWODAEEEAETIEDOVTSESNFPMAYDTWLLFSTSNODTMYXOVNEAJNZUTTSOVGSSPUEHXAWETIDLFSDMPUYTBIYOVSEHBNYOSTSAODXIEWLLFSYOSTSESNTRFLLNECZNTIDTTOQMPSELZHTLMYWAODDCBPPAODTTTGPOHRLPIYTNDLFDFSEHFMZUSNPMPUYTBIYSBSHEMLLSMOFGINPAHHLTTQFASEVIMOXEURPSTQXIUHPLBRRETTMOEYZFXAEESIYTIEFKUHPOWECAMLREPMZRQHZLPGJOGTSEVKHATSSAQEOBZANONBTNBTTOOOQFPRNETIYCMUOIOGEEDTZNJCDAODNLJMLTFCSAOGPIOPLRUINUMACGMANIBTTOOIYNPREHFRYAODHETTPROACEBSEHFTLLMEDTNOFNUATNJNEHFUVAODMRJTTSIIDLFSTSCEYNFVTSJNEHFGCANPTAOMZUOTLIOSDCPTWAODEHFLZNHEDTSIGESIDTIECIWECSFVPROWSIDHQLPWDFSOXWBLPSJNEOFNRLBNOTIEWASGPSULLKFBJSVRQADELRFATSMOFGINPAHHTNOOCTIECNJRPLBNOTIOFGISNOULLNESWODHYETSSATTSEMACGFSEVPLFMF\""
   ]
  },
  {
   "cell_type": "code",
   "execution_count": 20,
   "metadata": {},
   "outputs": [
    {
     "name": "stdout",
     "output_type": "stream",
     "text": [
      "ABAL\n"
     ]
    }
   ],
   "source": [
    "print(break_rp (\n",
    "    cipher,\n",
    "    englishLetterFreq,\n",
    "    abs_distance,\n",
    "))"
   ]
  }
 ],
 "metadata": {
  "interpreter": {
   "hash": "916dbcbb3f70747c44a77c7bcd40155683ae19c65e1c03b4aa3499c5328201f1"
  },
  "kernelspec": {
   "display_name": "Python 3.8.10 64-bit",
   "language": "python",
   "name": "python3"
  },
  "language_info": {
   "codemirror_mode": {
    "name": "ipython",
    "version": 3
   },
   "file_extension": ".py",
   "mimetype": "text/x-python",
   "name": "python",
   "nbconvert_exporter": "python",
   "pygments_lexer": "ipython3",
   "version": "3.9.0"
  },
  "orig_nbformat": 4
 },
 "nbformat": 4,
 "nbformat_minor": 2
}
