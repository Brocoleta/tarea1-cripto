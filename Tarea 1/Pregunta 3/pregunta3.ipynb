{
 "cells": [
  {
   "cell_type": "code",
   "execution_count": 2,
   "metadata": {},
   "outputs": [],
   "source": [
    "import hashlib\n",
    "import copy"
   ]
  },
  {
   "cell_type": "code",
   "execution_count": 3,
   "metadata": {},
   "outputs": [],
   "source": [
    "class Node:\n",
    "    def __init__(self, valor):\n",
    "        \n",
    "        self.valor = valor\n",
    "        self.string = valor\n",
    "        self.lado = None\n",
    "        self.brother = None\n",
    "        self.parent = None\n",
    "        self.izquierda = None\n",
    "        self.derecha = None"
   ]
  },
  {
   "cell_type": "code",
   "execution_count": 39,
   "metadata": {},
   "outputs": [],
   "source": [
    "class MerkleTree:\n",
    "    def __init__(self, strings, hash_func):\n",
    "        self.hash_func = hash_func\n",
    "        self.leaves = []\n",
    "        self.root = self.construir(strings)\n",
    "        \n",
    "\n",
    "    def get_root(self):\n",
    "        return self.root\n",
    "\n",
    "    def get_proof_for(self, item):\n",
    "\n",
    "        for leave in self.leaves:\n",
    "            pruebas = [(leave.valor,leave.lado)]\n",
    "            pruebas_texto = [(leave.valor,leave.lado)]\n",
    "\n",
    "            if self.hash_func(item.encode('utf-8')).hexdigest() == leave.hash:\n",
    "                nodo_actual = leave\n",
    "                while nodo_actual.parent:\n",
    "                    pruebas.append((nodo_actual.brother.hash,nodo_actual.brother.lado))\n",
    "                    pruebas_texto.append((nodo_actual.brother.string,nodo_actual.brother.lado))\n",
    "                    nodo_actual = nodo_actual.parent\n",
    "                print(pruebas_texto)\n",
    "                return pruebas\n",
    "        return None\n",
    "\n",
    "    def construir(self,strings):\n",
    "        print_table = []\n",
    "        nodos = []\n",
    "        for s in strings:\n",
    "            nuevo_nodo = Node(s)\n",
    "            nuevo_nodo.hash = self.hash_func(s.encode('utf-8')).hexdigest()\n",
    "            nodos.append(nuevo_nodo)\n",
    "            print_table.append(nuevo_nodo.hash)\n",
    "            self.leaves.append(nuevo_nodo)\n",
    "        print(print_table)\n",
    "\n",
    "        while len(nodos) > 1:\n",
    "            cambio = []\n",
    "            print_table = []\n",
    "            for index in range(0, len(nodos), 2):\n",
    "                izquierda = nodos[index]\n",
    "                if index+1 < len(nodos):\n",
    "                    derecha = nodos[index+1]\n",
    "                else:\n",
    "                    derecha = copy.copy(izquierda)\n",
    "                derecha.lado = 'd'\n",
    "                derecha.brother = izquierda\n",
    "                izquierda.brother = derecha\n",
    "                izquierda.lado = 'i'\n",
    "                nuevo_hash = izquierda.hash + derecha.hash\n",
    "                nuevo_nodo = Node(nuevo_hash)\n",
    "                nuevo_nodo.string = izquierda.string + derecha.string\n",
    "                nuevo_nodo.hash = self.hash_func(nuevo_hash.encode('utf-8')).hexdigest()\n",
    "                nuevo_nodo.izquierda = izquierda\n",
    "                nuevo_nodo.derecha = derecha\n",
    "                nuevo_nodo.izquierda.parent = nuevo_nodo\n",
    "                nuevo_nodo.derecha.parent = nuevo_nodo\n",
    "                cambio.append(nuevo_nodo)\n",
    "                print_table.append(nuevo_nodo.hash)\n",
    "            print(print_table)\n",
    "            nodos = cambio\n",
    "        return nodos[0]\n"
   ]
  },
  {
   "cell_type": "code",
   "execution_count": 40,
   "metadata": {},
   "outputs": [
    {
     "name": "stdout",
     "output_type": "stream",
     "text": [
      "['6b86b273ff34fce19d6b804eff5a3f5747ada4eaa22f1d49c01e52ddb7875b4b', 'd4735e3a265e16eee03f59718b9b5d03019c07d8b6c51f90da3a666eec13ab35', '4e07408562bedb8b60ce05c1decfe3ad16b72230967de01f640b7e4729b49fce', '4b227777d4dd1fc61c6f884f48641d02b4d121d3fd328cb08b5531fcacdabf8a', 'ef2d127de37b942baad06145e54b0c619a1f22327b2ebbcfbec78f5564afe39d', 'e7f6c011776e8db7cd330b54174fd76f7d0216b612387a5ffcfb81e6f0919683']\n",
      "['33b675636da5dcc86ec847b38c08fa49ff1cace9749931e0a5d4dfdbdedd808a', '13656c83d841ea7de6ebf3a89e0038fea9526bd7f686f06f7a692343a8a32dca', '43587f59c00a8e528bc7636fabaffcf70cc25afc5b4d53df797faf0dc72f6dd0']\n",
      "['85df8945419d2b5038f7ac83ec1ec6b8267c40fdb3b1e56ff62f6676eb855e70', 'e83e8d06e60bcfea6f4307c12ad0600566fd91b927ed7fed2ed1e1caf1a3536f']\n",
      "['058bd72c469db066d7b28c9e63e1b7b05c48df9ca23dd521afd0b6154ea47be6']\n"
     ]
    }
   ],
   "source": [
    "tree = MerkleTree(['1','2','3','4','5','6'],hashlib.sha256)\n"
   ]
  },
  {
   "cell_type": "code",
   "execution_count": 41,
   "metadata": {},
   "outputs": [
    {
     "name": "stdout",
     "output_type": "stream",
     "text": [
      "[('5', 'i'), ('6', 'd'), ('56', 'd'), ('1234', 'i')]\n",
      "[('5', 'i'), ('e7f6c011776e8db7cd330b54174fd76f7d0216b612387a5ffcfb81e6f0919683', 'd'), ('43587f59c00a8e528bc7636fabaffcf70cc25afc5b4d53df797faf0dc72f6dd0', 'd'), ('85df8945419d2b5038f7ac83ec1ec6b8267c40fdb3b1e56ff62f6676eb855e70', 'i')]\n"
     ]
    }
   ],
   "source": [
    "print(tree.get_proof_for('5'))"
   ]
  },
  {
   "cell_type": "code",
   "execution_count": 51,
   "metadata": {},
   "outputs": [],
   "source": [
    "def verify(root , item , proof):\n",
    "    \n",
    "    if proof[0][0] == item:\n",
    "        if proof[0][1] == 'i':\n",
    "            actual_texto = proof[0][0] + proof[1][0]\n",
    "            actual = hashlib.sha256(proof[0][0].encode('utf-8')).hexdigest()  + proof[1][0]\n",
    "        else:\n",
    "            actual_texto = proof[1][0] + proof[0][0]\n",
    "            actual = hashlib.sha256(proof[1][0].encode('utf-8')).hexdigest()  + proof[0][0]\n",
    "          \n",
    "        actual = hashlib.sha256(actual.encode('utf-8')).hexdigest()\n",
    "\n",
    "        \n",
    "\n",
    "        for node in proof[2::]:\n",
    "            if node[1] == 'i':\n",
    "                actual_texto = node[0] + actual_texto\n",
    "                actual = node[0] + actual\n",
    "            else:\n",
    "                actual_texto = actual_texto + node[0]\n",
    "                actual = actual + node[0]\n",
    "            \n",
    "            actual = hashlib.sha256(actual.encode('utf-8')).hexdigest()\n",
    "        if actual == root:\n",
    "            return True\n",
    "        return False\n",
    "            \n",
    "\n"
   ]
  },
  {
   "cell_type": "code",
   "execution_count": 52,
   "metadata": {},
   "outputs": [
    {
     "name": "stdout",
     "output_type": "stream",
     "text": [
      "058bd72c469db066d7b28c9e63e1b7b05c48df9ca23dd521afd0b6154ea47be6\n"
     ]
    }
   ],
   "source": [
    "print(tree.root.hash)\n"
   ]
  },
  {
   "cell_type": "code",
   "execution_count": 55,
   "metadata": {},
   "outputs": [
    {
     "name": "stdout",
     "output_type": "stream",
     "text": [
      "True\n"
     ]
    }
   ],
   "source": [
    "print(verify('058bd72c469db066d7b28c9e63e1b7b05c48df9ca23dd521afd0b6154ea47be6' ,  '5',[('5', 'i'), ('e7f6c011776e8db7cd330b54174fd76f7d0216b612387a5ffcfb81e6f0919683', 'd'), ('43587f59c00a8e528bc7636fabaffcf70cc25afc5b4d53df797faf0dc72f6dd0', 'd'), ('85df8945419d2b5038f7ac83ec1ec6b8267c40fdb3b1e56ff62f6676eb855e70', 'i')]))"
   ]
  }
 ],
 "metadata": {
  "interpreter": {
   "hash": "30dcda3581bf43bae15d541af6f8457806f227622af1c0ecf04ec2f89831b240"
  },
  "kernelspec": {
   "display_name": "Python 3.9.0 64-bit ('3.9.0')",
   "language": "python",
   "name": "python3"
  },
  "language_info": {
   "codemirror_mode": {
    "name": "ipython",
    "version": 3
   },
   "file_extension": ".py",
   "mimetype": "text/x-python",
   "name": "python",
   "nbconvert_exporter": "python",
   "pygments_lexer": "ipython3",
   "version": "3.9.0"
  },
  "orig_nbformat": 4
 },
 "nbformat": 4,
 "nbformat_minor": 2
}
