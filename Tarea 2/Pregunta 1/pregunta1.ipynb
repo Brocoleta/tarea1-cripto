{
 "cells": [
  {
   "cell_type": "code",
   "execution_count": 189,
   "metadata": {},
   "outputs": [],
   "source": [
    "# funcion para ver los bits\n",
    "def access_bit(data, num):\n",
    "    base = int(num // 8)\n",
    "    shift = int(num % 8)\n",
    "    return str((data[base] >> shift) & 0x1)"
   ]
  },
  {
   "cell_type": "code",
   "execution_count": 190,
   "metadata": {},
   "outputs": [],
   "source": [
    "from Crypto.Cipher import AES\n",
    "import math\n",
    "def davies_meyer(encrypt,\n",
    "                 l_key, l_message):\n",
    "\n",
    "    def funcion(bytes):\n",
    "        # separamos en key y message\n",
    "        key = bytes[0:l_key]       \n",
    "        message = bytes[l_key:l_message+l_key]\n",
    "\n",
    "        #encriptamos\n",
    "        encriptado = encrypt(key,message)\n",
    "\n",
    "        # hacemos el xor\n",
    "        encriptado = bytearray([aa ^ bb for aa, bb in zip(encriptado, message)])\n",
    "\n",
    "        return encriptado\n",
    "\n",
    "    \n",
    "\n",
    "    return funcion\n"
   ]
  },
  {
   "cell_type": "code",
   "execution_count": 191,
   "metadata": {},
   "outputs": [],
   "source": [
    "\n",
    "def pad(message, l_block):\n",
    "\n",
    "    # sacamos el len que tiene que tener el bloque\n",
    "    len_pad = l_block - len(message) % l_block\n",
    "\n",
    "    padding = False\n",
    "\n",
    "    # si |message| mod l_block == 0 no agregamos padding\n",
    "    if len_pad != l_block:\n",
    "\n",
    "        # agregamos los 1...0 necesarios\n",
    "        padding = [1]\n",
    "        for x in range(len_pad - 1):\n",
    "            padding.append(0)\n",
    "        padding = bytearray(padding)\n",
    "    \n",
    "    # sacamos el largo en base 256\n",
    "    largo = len(message).to_bytes(16, 'big')\n",
    "\n",
    "    # concatenamos\n",
    "    if padding:\n",
    "        message += padding\n",
    "    message += largo\n",
    "\n",
    "\n",
    "    return message\n"
   ]
  },
  {
   "cell_type": "code",
   "execution_count": 192,
   "metadata": {},
   "outputs": [],
   "source": [
    "def merkle_damgard(IV, comp,\n",
    "                   l_block):\n",
    "\n",
    "    def hash(mensaje):\n",
    "\n",
    "        # le agregamos el pad al mensaje\n",
    "        mensaje = pad(mensaje, l_block)\n",
    "\n",
    "\n",
    "        # empezamos el merkle damgard con el IV\n",
    "        actual = IV\n",
    "        for pos in range(0, len(mensaje), l_block):\n",
    "\n",
    "            bloque = mensaje[pos:pos+l_block]\n",
    "            actual = comp(bloque+actual)\n",
    "\n",
    "        \"\"\" bytes_as_bits = ''.join([access_bit(actual,i) for i in range(len(actual)*8)])\n",
    "        print(bytes_as_bits) \"\"\"\n",
    "\n",
    "            \n",
    "        return actual\n",
    "\n",
    "    return hash\n"
   ]
  }
 ],
 "metadata": {
  "interpreter": {
   "hash": "30dcda3581bf43bae15d541af6f8457806f227622af1c0ecf04ec2f89831b240"
  },
  "kernelspec": {
   "display_name": "Python 3.9.0 64-bit ('3.9.0')",
   "language": "python",
   "name": "python3"
  },
  "language_info": {
   "codemirror_mode": {
    "name": "ipython",
    "version": 3
   },
   "file_extension": ".py",
   "mimetype": "text/x-python",
   "name": "python",
   "nbconvert_exporter": "python",
   "pygments_lexer": "ipython3",
   "version": "3.9.0"
  },
  "orig_nbformat": 4
 },
 "nbformat": 4,
 "nbformat_minor": 2
}
